{
  "nbformat": 4,
  "nbformat_minor": 0,
  "metadata": {
    "colab": {
      "name": "SudoKenremocolab.ipynb",
      "provenance": [],
      "collapsed_sections": [],
      "include_colab_link": true
    },
    "kernelspec": {
      "name": "python3",
      "display_name": "Python 3"
    },
    "accelerator": "GPU"
  },
  "cells": [
    {
      "cell_type": "markdown",
      "metadata": {
        "id": "view-in-github",
        "colab_type": "text"
      },
      "source": [
        "<a href=\"https://colab.research.google.com/github/BruhNotKing/any/blob/main/Jupyternotebook.ipynb\" target=\"_parent\"><img src=\"https://colab.research.google.com/assets/colab-badge.svg\" alt=\"Open In Colab\"/></a>"
      ]
    },
    {
      "cell_type": "markdown",
      "metadata": {
        "id": "yHZlCGfqaNRr"
      },
      "source": [
        "# **<font color='blue'> Remocolab - Shared by [Cheems](https://github.com/cheems) </font>**"
      ]
    },
    {
      "cell_type": "code",
      "metadata": {
        "id": "EV5Y2Xh6PR7D"
      },
      "source": [
        "!pip install git+https://github.com/cheems/remocolab.git\n",
        "import remocolab\n",
        "remocolab.setupVNC()"
      ],
      "execution_count": null,
      "outputs": []
    },
    {
      "cell_type": "markdown",
      "metadata": {
        "id": "OWWv9LGbaccX"
      },
      "source": [
        "### 📚 Follow me on GitHub for more: [_@cheems_](https://github.com/cheems)\n",
        "##### 📦 Repo: [Github](https://github.com/cheems/remocolab)"
      ]
    }
  ]
}